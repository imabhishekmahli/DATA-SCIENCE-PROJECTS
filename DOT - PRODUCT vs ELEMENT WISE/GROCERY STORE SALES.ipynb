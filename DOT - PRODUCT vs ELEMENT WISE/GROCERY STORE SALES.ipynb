{
 "cells": [
  {
   "cell_type": "markdown",
   "id": "153c0a8c",
   "metadata": {},
   "source": [
    "# GROCERY STORE SALES\n",
    "ON WHICH DAY STORE SALES THE HIGHEST ?"
   ]
  },
  {
   "cell_type": "markdown",
   "id": "e0cc3b68",
   "metadata": {},
   "source": [
    "# IMPORT THE LIBRARIES"
   ]
  },
  {
   "cell_type": "code",
   "execution_count": 1,
   "id": "52df9c66",
   "metadata": {},
   "outputs": [],
   "source": [
    "import pandas as pd\n",
    "import numpy as np"
   ]
  },
  {
   "cell_type": "code",
   "execution_count": 4,
   "id": "a85ebf16",
   "metadata": {},
   "outputs": [
    {
     "data": {
      "text/plain": [
       "array([[54, 57, 74, 77, 77],\n",
       "       [19, 93, 31, 46, 97],\n",
       "       [80, 98, 98, 22, 68],\n",
       "       [75, 49, 97, 56, 98],\n",
       "       [91, 47, 35, 87, 82],\n",
       "       [19, 30, 90, 79, 89]])"
      ]
     },
     "execution_count": 4,
     "metadata": {},
     "output_type": "execute_result"
    }
   ],
   "source": [
    "np.random.seed(0)\n",
    "product_sales=np.random.randint(10,99,size=(6,5))\n",
    "product_sales\n"
   ]
  },
  {
   "cell_type": "code",
   "execution_count": 5,
   "id": "323bdc6e",
   "metadata": {},
   "outputs": [
    {
     "data": {
      "text/html": [
       "<div>\n",
       "<style scoped>\n",
       "    .dataframe tbody tr th:only-of-type {\n",
       "        vertical-align: middle;\n",
       "    }\n",
       "\n",
       "    .dataframe tbody tr th {\n",
       "        vertical-align: top;\n",
       "    }\n",
       "\n",
       "    .dataframe thead th {\n",
       "        text-align: right;\n",
       "    }\n",
       "</style>\n",
       "<table border=\"1\" class=\"dataframe\">\n",
       "  <thead>\n",
       "    <tr style=\"text-align: right;\">\n",
       "      <th></th>\n",
       "      <th>PIZZA</th>\n",
       "      <th>BURGER</th>\n",
       "      <th>COLD DRINKS</th>\n",
       "      <th>HOT DOGS</th>\n",
       "      <th>FRIES</th>\n",
       "    </tr>\n",
       "  </thead>\n",
       "  <tbody>\n",
       "    <tr>\n",
       "      <th>MONDAY</th>\n",
       "      <td>54</td>\n",
       "      <td>57</td>\n",
       "      <td>74</td>\n",
       "      <td>77</td>\n",
       "      <td>77</td>\n",
       "    </tr>\n",
       "    <tr>\n",
       "      <th>TUESDAY</th>\n",
       "      <td>19</td>\n",
       "      <td>93</td>\n",
       "      <td>31</td>\n",
       "      <td>46</td>\n",
       "      <td>97</td>\n",
       "    </tr>\n",
       "    <tr>\n",
       "      <th>WEDNESDAY</th>\n",
       "      <td>80</td>\n",
       "      <td>98</td>\n",
       "      <td>98</td>\n",
       "      <td>22</td>\n",
       "      <td>68</td>\n",
       "    </tr>\n",
       "    <tr>\n",
       "      <th>THRUSDAY</th>\n",
       "      <td>75</td>\n",
       "      <td>49</td>\n",
       "      <td>97</td>\n",
       "      <td>56</td>\n",
       "      <td>98</td>\n",
       "    </tr>\n",
       "    <tr>\n",
       "      <th>FRIDAY</th>\n",
       "      <td>91</td>\n",
       "      <td>47</td>\n",
       "      <td>35</td>\n",
       "      <td>87</td>\n",
       "      <td>82</td>\n",
       "    </tr>\n",
       "    <tr>\n",
       "      <th>SATURDAY</th>\n",
       "      <td>19</td>\n",
       "      <td>30</td>\n",
       "      <td>90</td>\n",
       "      <td>79</td>\n",
       "      <td>89</td>\n",
       "    </tr>\n",
       "  </tbody>\n",
       "</table>\n",
       "</div>"
      ],
      "text/plain": [
       "           PIZZA  BURGER  COLD DRINKS  HOT DOGS  FRIES\n",
       "MONDAY        54      57           74        77     77\n",
       "TUESDAY       19      93           31        46     97\n",
       "WEDNESDAY     80      98           98        22     68\n",
       "THRUSDAY      75      49           97        56     98\n",
       "FRIDAY        91      47           35        87     82\n",
       "SATURDAY      19      30           90        79     89"
      ]
     },
     "execution_count": 5,
     "metadata": {},
     "output_type": "execute_result"
    }
   ],
   "source": [
    "product_sales_df=pd.DataFrame(product_sales,\n",
    "                             index=[\"MONDAY\",\"TUESDAY\",\"WEDNESDAY\",\"THRUSDAY\",\"FRIDAY\",\"SATURDAY\"],\n",
    "                             columns=[\"PIZZA\",\"BURGER\",\"COLD DRINKS\",\"HOT DOGS\",\"FRIES\"])\n",
    "product_sales_df"
   ]
  },
  {
   "cell_type": "markdown",
   "id": "5787932a",
   "metadata": {},
   "source": [
    "# PRICE OF PRODUCTS"
   ]
  },
  {
   "cell_type": "code",
   "execution_count": 6,
   "id": "16e44c3d",
   "metadata": {},
   "outputs": [
    {
     "data": {
      "text/plain": [
       "array([299,  99,  49,  80,  90])"
      ]
     },
     "execution_count": 6,
     "metadata": {},
     "output_type": "execute_result"
    }
   ],
   "source": [
    "price=np.array([299,99,49,80,90])\n",
    "price"
   ]
  },
  {
   "cell_type": "code",
   "execution_count": 7,
   "id": "f7530abb",
   "metadata": {},
   "outputs": [
    {
     "data": {
      "text/html": [
       "<div>\n",
       "<style scoped>\n",
       "    .dataframe tbody tr th:only-of-type {\n",
       "        vertical-align: middle;\n",
       "    }\n",
       "\n",
       "    .dataframe tbody tr th {\n",
       "        vertical-align: top;\n",
       "    }\n",
       "\n",
       "    .dataframe thead th {\n",
       "        text-align: right;\n",
       "    }\n",
       "</style>\n",
       "<table border=\"1\" class=\"dataframe\">\n",
       "  <thead>\n",
       "    <tr style=\"text-align: right;\">\n",
       "      <th></th>\n",
       "      <th>PIZZA</th>\n",
       "      <th>BURGER</th>\n",
       "      <th>COLD DRINKS</th>\n",
       "      <th>HOT DOGS</th>\n",
       "      <th>FRIES</th>\n",
       "    </tr>\n",
       "  </thead>\n",
       "  <tbody>\n",
       "    <tr>\n",
       "      <th>PRICE</th>\n",
       "      <td>299</td>\n",
       "      <td>99</td>\n",
       "      <td>49</td>\n",
       "      <td>80</td>\n",
       "      <td>90</td>\n",
       "    </tr>\n",
       "  </tbody>\n",
       "</table>\n",
       "</div>"
      ],
      "text/plain": [
       "       PIZZA  BURGER  COLD DRINKS  HOT DOGS  FRIES\n",
       "PRICE    299      99           49        80     90"
      ]
     },
     "execution_count": 7,
     "metadata": {},
     "output_type": "execute_result"
    }
   ],
   "source": [
    "price_df=pd.DataFrame(price.reshape(1,5),\n",
    "                     index=[\"PRICE\"],\n",
    "                     columns=[\"PIZZA\",\"BURGER\",\"COLD DRINKS\",\"HOT DOGS\",\"FRIES\"])\n",
    "price_df"
   ]
  },
  {
   "cell_type": "markdown",
   "id": "d2ce5b68",
   "metadata": {},
   "source": [
    "# TRANSPOSE OF PRODUCT SALSE"
   ]
  },
  {
   "cell_type": "code",
   "execution_count": 8,
   "id": "a0a1fb62",
   "metadata": {},
   "outputs": [
    {
     "data": {
      "text/plain": [
       "array([[54, 19, 80, 75, 91, 19],\n",
       "       [57, 93, 98, 49, 47, 30],\n",
       "       [74, 31, 98, 97, 35, 90],\n",
       "       [77, 46, 22, 56, 87, 79],\n",
       "       [77, 97, 68, 98, 82, 89]])"
      ]
     },
     "execution_count": 8,
     "metadata": {},
     "output_type": "execute_result"
    }
   ],
   "source": [
    "product_sales_T=product_sales.T\n",
    "product_sales_T"
   ]
  },
  {
   "cell_type": "markdown",
   "id": "375206e7",
   "metadata": {},
   "source": [
    "# TOTAL SALES \n",
    "DOT PRODUCT VS ELEMENT WISE"
   ]
  },
  {
   "cell_type": "code",
   "execution_count": 9,
   "id": "9f86e1ff",
   "metadata": {},
   "outputs": [
    {
     "data": {
      "text/plain": [
       "array([38505, 28817, 46304, 45329, 47917, 27391])"
      ]
     },
     "execution_count": 9,
     "metadata": {},
     "output_type": "execute_result"
    }
   ],
   "source": [
    "total_sales=price.dot(product_sales_T)\n",
    "total_sales"
   ]
  },
  {
   "cell_type": "markdown",
   "id": "25872fcf",
   "metadata": {},
   "source": [
    "# TOTAL SALES DATAFRAME"
   ]
  },
  {
   "cell_type": "code",
   "execution_count": 20,
   "id": "46c885df",
   "metadata": {},
   "outputs": [
    {
     "data": {
      "text/html": [
       "<div>\n",
       "<style scoped>\n",
       "    .dataframe tbody tr th:only-of-type {\n",
       "        vertical-align: middle;\n",
       "    }\n",
       "\n",
       "    .dataframe tbody tr th {\n",
       "        vertical-align: top;\n",
       "    }\n",
       "\n",
       "    .dataframe thead th {\n",
       "        text-align: right;\n",
       "    }\n",
       "</style>\n",
       "<table border=\"1\" class=\"dataframe\">\n",
       "  <thead>\n",
       "    <tr style=\"text-align: right;\">\n",
       "      <th></th>\n",
       "      <th>MONDAY</th>\n",
       "      <th>TUESDAY</th>\n",
       "      <th>WEDNESDAY</th>\n",
       "      <th>THRUSDAY</th>\n",
       "      <th>FRIDAY</th>\n",
       "      <th>SATURDAY</th>\n",
       "    </tr>\n",
       "  </thead>\n",
       "  <tbody>\n",
       "    <tr>\n",
       "      <th>TOTAL PRICE ($)</th>\n",
       "      <td>38505</td>\n",
       "      <td>28817</td>\n",
       "      <td>46304</td>\n",
       "      <td>45329</td>\n",
       "      <td>47917</td>\n",
       "      <td>27391</td>\n",
       "    </tr>\n",
       "  </tbody>\n",
       "</table>\n",
       "</div>"
      ],
      "text/plain": [
       "                 MONDAY  TUESDAY  WEDNESDAY  THRUSDAY  FRIDAY  SATURDAY\n",
       "TOTAL PRICE ($)   38505    28817      46304     45329   47917     27391"
      ]
     },
     "execution_count": 20,
     "metadata": {},
     "output_type": "execute_result"
    }
   ],
   "source": [
    "total_sales_df=pd.DataFrame(total_sales.reshape(1,6),\n",
    "                           index=[\"TOTAL PRICE ($)\"],\n",
    "                           columns=[\"MONDAY\",\"TUESDAY\",\"WEDNESDAY\",\"THRUSDAY\",\"FRIDAY\",\"SATURDAY\"])\n",
    "total_sales_df"
   ]
  },
  {
   "cell_type": "markdown",
   "id": "fa2e513a",
   "metadata": {},
   "source": [
    "# TRANSPOSE THE TOTAL SALES"
   ]
  },
  {
   "cell_type": "code",
   "execution_count": 21,
   "id": "4ecf6359",
   "metadata": {},
   "outputs": [
    {
     "data": {
      "text/html": [
       "<div>\n",
       "<style scoped>\n",
       "    .dataframe tbody tr th:only-of-type {\n",
       "        vertical-align: middle;\n",
       "    }\n",
       "\n",
       "    .dataframe tbody tr th {\n",
       "        vertical-align: top;\n",
       "    }\n",
       "\n",
       "    .dataframe thead th {\n",
       "        text-align: right;\n",
       "    }\n",
       "</style>\n",
       "<table border=\"1\" class=\"dataframe\">\n",
       "  <thead>\n",
       "    <tr style=\"text-align: right;\">\n",
       "      <th></th>\n",
       "      <th>TOTAL PRICE ($)</th>\n",
       "    </tr>\n",
       "  </thead>\n",
       "  <tbody>\n",
       "    <tr>\n",
       "      <th>MONDAY</th>\n",
       "      <td>38505</td>\n",
       "    </tr>\n",
       "    <tr>\n",
       "      <th>TUESDAY</th>\n",
       "      <td>28817</td>\n",
       "    </tr>\n",
       "    <tr>\n",
       "      <th>WEDNESDAY</th>\n",
       "      <td>46304</td>\n",
       "    </tr>\n",
       "    <tr>\n",
       "      <th>THRUSDAY</th>\n",
       "      <td>45329</td>\n",
       "    </tr>\n",
       "    <tr>\n",
       "      <th>FRIDAY</th>\n",
       "      <td>47917</td>\n",
       "    </tr>\n",
       "    <tr>\n",
       "      <th>SATURDAY</th>\n",
       "      <td>27391</td>\n",
       "    </tr>\n",
       "  </tbody>\n",
       "</table>\n",
       "</div>"
      ],
      "text/plain": [
       "           TOTAL PRICE ($)\n",
       "MONDAY               38505\n",
       "TUESDAY              28817\n",
       "WEDNESDAY            46304\n",
       "THRUSDAY             45329\n",
       "FRIDAY               47917\n",
       "SATURDAY             27391"
      ]
     },
     "execution_count": 21,
     "metadata": {},
     "output_type": "execute_result"
    }
   ],
   "source": [
    "total_sales_df_T=total_sales_df.T\n",
    "total_sales_df_T"
   ]
  },
  {
   "cell_type": "markdown",
   "id": "810a9564",
   "metadata": {},
   "source": [
    "# JOIN THE TOTAL SALES WITH PRODUCT SALES DATA FRAME"
   ]
  },
  {
   "cell_type": "code",
   "execution_count": 22,
   "id": "8de256ed",
   "metadata": {},
   "outputs": [
    {
     "data": {
      "text/html": [
       "<div>\n",
       "<style scoped>\n",
       "    .dataframe tbody tr th:only-of-type {\n",
       "        vertical-align: middle;\n",
       "    }\n",
       "\n",
       "    .dataframe tbody tr th {\n",
       "        vertical-align: top;\n",
       "    }\n",
       "\n",
       "    .dataframe thead th {\n",
       "        text-align: right;\n",
       "    }\n",
       "</style>\n",
       "<table border=\"1\" class=\"dataframe\">\n",
       "  <thead>\n",
       "    <tr style=\"text-align: right;\">\n",
       "      <th></th>\n",
       "      <th>PIZZA</th>\n",
       "      <th>BURGER</th>\n",
       "      <th>COLD DRINKS</th>\n",
       "      <th>HOT DOGS</th>\n",
       "      <th>FRIES</th>\n",
       "      <th>$ Total SALES</th>\n",
       "      <th>TOTAL SALES ($)</th>\n",
       "    </tr>\n",
       "  </thead>\n",
       "  <tbody>\n",
       "    <tr>\n",
       "      <th>MONDAY</th>\n",
       "      <td>54</td>\n",
       "      <td>57</td>\n",
       "      <td>74</td>\n",
       "      <td>77</td>\n",
       "      <td>77</td>\n",
       "      <td>38505</td>\n",
       "      <td>38505</td>\n",
       "    </tr>\n",
       "    <tr>\n",
       "      <th>TUESDAY</th>\n",
       "      <td>19</td>\n",
       "      <td>93</td>\n",
       "      <td>31</td>\n",
       "      <td>46</td>\n",
       "      <td>97</td>\n",
       "      <td>28817</td>\n",
       "      <td>28817</td>\n",
       "    </tr>\n",
       "    <tr>\n",
       "      <th>WEDNESDAY</th>\n",
       "      <td>80</td>\n",
       "      <td>98</td>\n",
       "      <td>98</td>\n",
       "      <td>22</td>\n",
       "      <td>68</td>\n",
       "      <td>46304</td>\n",
       "      <td>46304</td>\n",
       "    </tr>\n",
       "    <tr>\n",
       "      <th>THRUSDAY</th>\n",
       "      <td>75</td>\n",
       "      <td>49</td>\n",
       "      <td>97</td>\n",
       "      <td>56</td>\n",
       "      <td>98</td>\n",
       "      <td>45329</td>\n",
       "      <td>45329</td>\n",
       "    </tr>\n",
       "    <tr>\n",
       "      <th>FRIDAY</th>\n",
       "      <td>91</td>\n",
       "      <td>47</td>\n",
       "      <td>35</td>\n",
       "      <td>87</td>\n",
       "      <td>82</td>\n",
       "      <td>47917</td>\n",
       "      <td>47917</td>\n",
       "    </tr>\n",
       "    <tr>\n",
       "      <th>SATURDAY</th>\n",
       "      <td>19</td>\n",
       "      <td>30</td>\n",
       "      <td>90</td>\n",
       "      <td>79</td>\n",
       "      <td>89</td>\n",
       "      <td>27391</td>\n",
       "      <td>27391</td>\n",
       "    </tr>\n",
       "  </tbody>\n",
       "</table>\n",
       "</div>"
      ],
      "text/plain": [
       "           PIZZA  BURGER  COLD DRINKS  HOT DOGS  FRIES  $ Total SALES  \\\n",
       "MONDAY        54      57           74        77     77          38505   \n",
       "TUESDAY       19      93           31        46     97          28817   \n",
       "WEDNESDAY     80      98           98        22     68          46304   \n",
       "THRUSDAY      75      49           97        56     98          45329   \n",
       "FRIDAY        91      47           35        87     82          47917   \n",
       "SATURDAY      19      30           90        79     89          27391   \n",
       "\n",
       "           TOTAL SALES ($)  \n",
       "MONDAY               38505  \n",
       "TUESDAY              28817  \n",
       "WEDNESDAY            46304  \n",
       "THRUSDAY             45329  \n",
       "FRIDAY               47917  \n",
       "SATURDAY             27391  "
      ]
     },
     "execution_count": 22,
     "metadata": {},
     "output_type": "execute_result"
    }
   ],
   "source": [
    "product_sales_df[\"TOTAL SALES ($)\"]=total_sales_df_T\n",
    "product_sales_df"
   ]
  },
  {
   "cell_type": "code",
   "execution_count": 25,
   "id": "ab911aa4",
   "metadata": {},
   "outputs": [],
   "source": [
    "product_sales_df.to_csv(\"EXPORTED GROCERY PRODUCT SALES.CSV\")"
   ]
  },
  {
   "cell_type": "code",
   "execution_count": null,
   "id": "4a3c3260",
   "metadata": {},
   "outputs": [],
   "source": []
  }
 ],
 "metadata": {
  "kernelspec": {
   "display_name": "Python 3 (ipykernel)",
   "language": "python",
   "name": "python3"
  },
  "language_info": {
   "codemirror_mode": {
    "name": "ipython",
    "version": 3
   },
   "file_extension": ".py",
   "mimetype": "text/x-python",
   "name": "python",
   "nbconvert_exporter": "python",
   "pygments_lexer": "ipython3",
   "version": "3.9.12"
  }
 },
 "nbformat": 4,
 "nbformat_minor": 5
}
